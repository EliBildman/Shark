{
 "metadata": {
  "language_info": {
   "codemirror_mode": {
    "name": "ipython",
    "version": 3
   },
   "file_extension": ".py",
   "mimetype": "text/x-python",
   "name": "python",
   "nbconvert_exporter": "python",
   "pygments_lexer": "ipython3",
   "version": "3.8.2"
  },
  "orig_nbformat": 2,
  "kernelspec": {
   "name": "python382jvsc74a57bd02db524e06e9f5f4ffedc911c917cb75e12dbc923643829bf417064a77eb14d37",
   "display_name": "Python 3.8.2 64-bit"
  },
  "metadata": {
   "interpreter": {
    "hash": "2db524e06e9f5f4ffedc911c917cb75e12dbc923643829bf417064a77eb14d37"
   }
  }
 },
 "nbformat": 4,
 "nbformat_minor": 2,
 "cells": [
  {
   "cell_type": "code",
   "execution_count": null,
   "metadata": {},
   "outputs": [],
   "source": [
    "%load_ext autoreload\n",
    "%autoreload 2"
   ]
  },
  {
   "cell_type": "code",
   "execution_count": null,
   "metadata": {},
   "outputs": [],
   "source": [
    "from abstraction.wr_map import TEST_NODES, TEST_TREE, load_file, save, create_nature_tree, train\n",
    "\n",
    "train(100, TEST_NODES, dump_nodes=True)"
   ]
  },
  {
   "cell_type": "code",
   "execution_count": 1,
   "metadata": {},
   "outputs": [],
   "source": [
    "from abstraction.wr_map import TEST_NODES, TEST_TREE, load_file, save, create_nature_tree\n",
    "from abstraction.wr_game_tree import create_game_tree, tree_size\n",
    "from abstraction.decision_tree import build_decision_tree\n",
    "from abstraction.RoundNodes import Action, Move\n",
    "from abstraction.AGameNode import info_sets\n",
    "import abstraction.WRNodes\n",
    "\n",
    "_map = load_file(TEST_NODES)\n",
    "n_tree = create_nature_tree(_map, TEST_TREE)\n",
    "d_tree = build_decision_tree()\n",
    "\n",
    "t = create_game_tree(n_tree, d_tree)"
   ]
  },
  {
   "cell_type": "code",
   "execution_count": 2,
   "metadata": {
    "tags": []
   },
   "outputs": [
    {
     "output_type": "stream",
     "name": "stdout",
     "text": [
      "AGameNode(wrs: [0.0, 0.0], type: decision, last_action: Action(player: 0, move: Move(name: raise, amount: 1)))\n\nAGameNode(wrs: [0.0, 1.0], type: nature, last_action: N/A) 0.23713361435153416\nAGameNode(wrs: [0.0, 1.0], type: nature, last_action: N/A) 0.36190476190476184\nAGameNode(wrs: [1.0, 0.0], type: nature, last_action: N/A) 0.08152173913043478\nAGameNode(wrs: [0.0, 0.0], type: nature, last_action: N/A) 0.23469785575048735\nAGameNode(wrs: [0.0, 0.0], type: decision, last_action: None) 1.0\nAGameNode(wrs: [0.0, 0.0], type: decision, last_action: Action(player: 0, move: Move(name: call, amount: 0.5))) 0.3333333333333333\nAGameNode(wrs: [0.0, 0.0], type: decision, last_action: Action(player: 1, move: Move(name: raise, amount: 1))) 0.3333333333333333\nAGameNode(wrs: [0.0, 0.0], type: decision, last_action: Action(player: 0, move: Move(name: raise, amount: 1))) 0.3333333333333333\nAGameNode(wrs: [0.0, 0.0], type: decision, last_action: Action(player: 1, move: Move(name: raise, amount: 1))) 0.3333333333333333\nAGameNode(wrs: [0.0, 0.0], type: decision, last_action: Action(player: 0, move: Move(name: raise, amount: 1))) 0.3333333333333333\n0.00012162873999064791\n\nfold 0.5\ncall 0.5\n"
     ]
    }
   ],
   "source": [
    "from train import prob_history, cf_value, cf_regret_node, cf_regret_iset\n",
    "\n",
    "i_set = info_sets[200]\n",
    "\n",
    "n = i_set.get_nodes()[2]\n",
    "\n",
    "print(n)\n",
    "\n",
    "print()\n",
    "\n",
    "for c in n.get_history():\n",
    "    print(c, c.t())\n",
    "\n",
    "print(cf_value(n))\n",
    "print()\n",
    "\n",
    "for act in i_set.get_actions():\n",
    "    print(act.move.name, i_set.p_action(act))\n"
   ]
  },
  {
   "cell_type": "code",
   "execution_count": 3,
   "metadata": {
    "tags": []
   },
   "outputs": [],
   "source": [
    "from train import train\n",
    "\n",
    "train(100, info_sets)"
   ]
  },
  {
   "cell_type": "code",
   "execution_count": 8,
   "metadata": {},
   "outputs": [
    {
     "output_type": "stream",
     "name": "stdout",
     "text": [
      "fold 0.914957469513848\ncall 0.040061262587415804\nraise 0.04498126789873595\n"
     ]
    }
   ],
   "source": [
    "i_set = info_sets[50]\n",
    "\n",
    "for act in i_set.get_actions():\n",
    "    print(act.move.name, i_set.p_action(act))"
   ]
  },
  {
   "cell_type": "code",
   "execution_count": null,
   "metadata": {},
   "outputs": [],
   "source": [
    "n_tree.get_children()[0].get_children()[0].get_children()[0].get_children()[0].get_children()[3].t"
   ]
  }
 ]
}