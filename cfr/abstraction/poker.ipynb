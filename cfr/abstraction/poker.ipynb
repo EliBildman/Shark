{
 "metadata": {
  "language_info": {
   "codemirror_mode": {
    "name": "ipython",
    "version": 3
   },
   "file_extension": ".py",
   "mimetype": "text/x-python",
   "name": "python",
   "nbconvert_exporter": "python",
   "pygments_lexer": "ipython3",
   "version": "3.8.2"
  },
  "orig_nbformat": 2,
  "kernelspec": {
   "name": "python382jvsc74a57bd02db524e06e9f5f4ffedc911c917cb75e12dbc923643829bf417064a77eb14d37",
   "display_name": "Python 3.8.2 64-bit"
  },
  "metadata": {
   "interpreter": {
    "hash": "2db524e06e9f5f4ffedc911c917cb75e12dbc923643829bf417064a77eb14d37"
   }
  }
 },
 "nbformat": 4,
 "nbformat_minor": 2,
 "cells": [
  {
   "cell_type": "code",
   "execution_count": null,
   "metadata": {},
   "outputs": [],
   "source": [
    "%load_ext autoreload\n",
    "%autoreload 2"
   ]
  },
  {
   "cell_type": "code",
   "execution_count": 1,
   "metadata": {},
   "outputs": [],
   "source": [
    "from wr_map import TEST_NODES, TEST_TREE, load, save, create_nature_tree\n",
    "from wr_game_tree import create_game_tree, tree_size\n",
    "from decision_tree import build_decision_tree\n",
    "from RoundNodes import Action, Move\n",
    "from AGameNode import info_sets\n",
    "\n",
    "_map = load(TEST_NODES)\n",
    "n_tree = create_nature_tree(_map, TEST_TREE)\n",
    "d_tree = build_decision_tree()\n",
    "\n"
   ]
  },
  {
   "cell_type": "code",
   "execution_count": 2,
   "metadata": {},
   "outputs": [],
   "source": [
    "t = create_game_tree(n_tree, d_tree)"
   ]
  },
  {
   "cell_type": "code",
   "execution_count": 9,
   "metadata": {},
   "outputs": [
    {
     "output_type": "stream",
     "name": "stdout",
     "text": [
      "[]\n"
     ]
    }
   ],
   "source": [
    "from RoundNodes import WRInfoSet\n",
    "from AGameNode import AGameNode\n",
    "# .get_children()[0].t()\n",
    "n = t.get_children()[0].get_children()[0]\n",
    "i_set = n.get_info_set()\n",
    "\n",
    "inner = n.inner_node\n",
    "new_g_node = AGameNode(None, inner, [0, 0])\n",
    "\n",
    "new_set = WRInfoSet(new_g_node)\n",
    "\n",
    "print(new_g_node.get_children())\n"
   ]
  },
  {
   "cell_type": "code",
   "execution_count": null,
   "metadata": {
    "tags": [
     "outputPrepend"
    ]
   },
   "outputs": [],
   "source": [
    "# print(info_sets[1000].his[0])\n",
    "for i in range(len(info_sets)):\n",
    "    a = info_sets[i]\n",
    "    for j in range(len(info_sets)):\n",
    "        b = info_sets[j]\n",
    "        if i != j and a.hand_wr == b.hand_wr and len(a.his) == len(b.his):\n",
    "            _same = True\n",
    "            for i in range(len(a.his)):\n",
    "                if a.his[i] != b.his[i]:\n",
    "                    _same = False\n",
    "            if _same:\n",
    "                print(i, j)"
   ]
  }
 ]
}