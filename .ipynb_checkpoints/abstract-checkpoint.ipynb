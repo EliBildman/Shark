{
 "cells": [
  {
   "cell_type": "code",
   "execution_count": 2,
   "metadata": {},
   "outputs": [
    {
     "name": "stdout",
     "output_type": "stream",
     "text": [
      "Geting Preflop Wrs\n",
      "9 %\n",
      "19 %\n",
      "29 %\n",
      "39 %\n",
      "48 %\n",
      "58 %\n",
      "68 %\n",
      "78 %\n",
      "88 %\n",
      "97 %\n"
     ]
    },
    {
     "data": {
      "text/plain": [
       "(array([ 41., 131., 195., 241., 282., 244., 122.,  42.,  14.,  14.]),\n",
       " array([0.23 , 0.296, 0.362, 0.428, 0.494, 0.56 , 0.626, 0.692, 0.758,\n",
       "        0.824, 0.89 ]),\n",
       " <BarContainer object of 10 artists>)"
      ]
     },
     "execution_count": 2,
     "metadata": {},
     "output_type": "execute_result"
    },
    {
     "data": {
      "image/png": "[encoded data removed]",
      "text/plain": [
       "<Figure size 432x288 with 1 Axes>"
      ]
     },
     "metadata": {
      "needs_background": "light"
     },
     "output_type": "display_data"
    }
   ],
   "source": [
    "import matplotlib.pyplot as plt\n",
    "from abstraction import NatureNode, get_preflop_wrs\n",
    "\n",
    "wrs = get_preflop_wrs(100)\n",
    "plt.hist(wrs)"
   ]
  },
  {
   "cell_type": "code",
   "execution_count": 17,
   "metadata": {},
   "outputs": [
    {
     "data": {
      "text/plain": [
       "<matplotlib.collections.PathCollection at 0x114fc8370>"
      ]
     },
     "execution_count": 17,
     "metadata": {},
     "output_type": "execute_result"
    },
    {
     "data": {
      "image/png": "[encoded data removed]",
      "text/plain": [
       "<Figure size 432x288 with 1 Axes>"
      ]
     },
     "metadata": {
      "needs_background": "light"
     },
     "output_type": "display_data"
    }
   ],
   "source": [
    "from scipy.cluster.vq import vq, kmeans, whiten\n",
    "import numpy as np\n",
    "\n",
    "whitened = whiten(wrs)\n",
    "book = np.array((whitened[0],whitened[2]))\n",
    "\n",
    "data = []\n",
    "\n",
    "for i in range(1, 50):\n",
    "    means = kmeans(whitened, i)\n",
    "    data.append(means[1])\n",
    "    \n",
    "plt.scatter([range(1, 50)], data)\n"
   ]
  },
  {
   "cell_type": "code",
   "execution_count": null,
   "metadata": {},
   "outputs": [],
   "source": []
  },
  {
   "cell_type": "code",
   "execution_count": null,
   "metadata": {},
   "outputs": [],
   "source": []
  }
 ],
 "metadata": {
  "kernelspec": {
   "display_name": "Python 3",
   "language": "python",
   "name": "python3"
  },
  "language_info": {
   "codemirror_mode": {
    "name": "ipython",
    "version": 3
   },
   "file_extension": ".py",
   "mimetype": "text/x-python",
   "name": "python",
   "nbconvert_exporter": "python",
   "pygments_lexer": "ipython3",
   "version": "3.8.5"
  }
 },
 "nbformat": 4,
 "nbformat_minor": 4
}
